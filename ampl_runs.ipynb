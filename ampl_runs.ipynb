{
 "cells": [
  {
   "cell_type": "code",
   "execution_count": 218,
   "metadata": {},
   "outputs": [],
   "source": [
    "from sklearn import datasets\n",
    "from amplpy import AMPL, Environment\n",
    "import numpy as np\n",
    "\n",
    "eps = 1e-6\n",
    "ampl = AMPL(Environment(\"/Users/alex/Desktop/ampl_macosx64\"))"
   ]
  },
  {
   "cell_type": "code",
   "execution_count": 219,
   "metadata": {},
   "outputs": [],
   "source": [
    "## Training pel primal\n",
    "def primal_tr(model,data):\n",
    "    ampl.reset()\n",
    "    ampl.read(model)\n",
    "    ampl.readData(data)\n",
    "    ampl.setOption('solver','minos')\n",
    "    ampl.solve()\n",
    "    \n",
    "    # Parametres\n",
    "    nu = ampl.getParameter('nu').getValues().toList()[0]\n",
    "    m = int(ampl.getParameter('m').getValues().toList()[0])\n",
    "    n = int(ampl.getParameter('n').getValues().toList()[0])\n",
    "    A = np.matrix(ampl.getParameter('A').getValues().toPandas()).reshape(m,n)\n",
    "    y = np.matrix(ampl.getParameter('y').getValues().toPandas()).reshape(m,1)\n",
    "    # Variables\n",
    "    w = np.matrix(ampl.getVariable('w').getValues().toPandas()).reshape(n,1)\n",
    "    gamma = ampl.getVariable('gamma').getValues().toList()[0]\n",
    "    s = np.matrix(ampl.getVariable('s').getValues().toPandas()).reshape(m,1)\n",
    "    \n",
    "    # Training accuracy primal\n",
    "    \n",
    "    wt = w.T\n",
    "    prediccio = wt*A.T+gamma\n",
    "    pred = prediccio.T\n",
    "\n",
    "    ok = 0\n",
    "    for i in range(m):\n",
    "        if y[i]==1:\n",
    "            if pred[i]>+eps:\n",
    "                ok = ok + 1\n",
    "        else: # y = -1\n",
    "            if pred[i]<-eps:\n",
    "                ok = ok + 1\n",
    "            \n",
    "    tr_acc = ok/m*100\n",
    "    return tr_acc,w,gamma"
   ]
  },
  {
   "cell_type": "code",
   "execution_count": 220,
   "metadata": {},
   "outputs": [],
   "source": [
    "## Test pel primal\n",
    "def primal_te(model,data,w,gamma):\n",
    "    ampl.reset()\n",
    "    ampl.read(model)\n",
    "    ampl.readData(data)\n",
    "\n",
    "    nu = ampl.getParameter('nu').getValues().toList()[0]\n",
    "    m = int(ampl.getParameter('m').getValues().toList()[0])\n",
    "    n = int(ampl.getParameter('n').getValues().toList()[0])\n",
    "    A = np.matrix(ampl.getParameter('A').getValues().toPandas()).reshape(m,n)\n",
    "    y = np.matrix(ampl.getParameter('y').getValues().toPandas()).reshape(m,1)\n",
    "    \n",
    "    # Test accuracy primal\n",
    "    \n",
    "    wt = w.T\n",
    "    prediccio = wt*A.T+gamma\n",
    "    pred = prediccio.T\n",
    "\n",
    "    ok = 0\n",
    "    for i in range(m):\n",
    "        if y[i]==1:\n",
    "            if pred[i]>-eps:\n",
    "                ok = ok + 1\n",
    "        else: # y = -1\n",
    "            if pred[i]<-eps:\n",
    "                ok = ok + 1\n",
    "            \n",
    "    te_acc = ok/m*100\n",
    "    return te_acc"
   ]
  },
  {
   "cell_type": "code",
   "execution_count": 221,
   "metadata": {},
   "outputs": [],
   "source": [
    "def find_gamma(y,landa,K,nu,num_points):\n",
    "    #In order to obtain the gamma, first we find a SV point.\n",
    "    SV = 0\n",
    "    for i in range (num_points):\n",
    "        if (eps < landa[i] < nu-eps):\n",
    "                SV = i;\n",
    "                break;\n",
    "\n",
    "    #Then we proceed to calculate the gamma.\n",
    "    gamma = y[SV]\n",
    "    for j in range(num_points):\n",
    "        gamma = gamma - landa[j]*y[j]*K[SV,j]\n",
    "    return gamma"
   ]
  },
  {
   "cell_type": "code",
   "execution_count": 222,
   "metadata": {},
   "outputs": [],
   "source": [
    "def find_w(y,landa,A,num_points):\n",
    "    w = [0 for i in range(A[0].size)]\n",
    "\n",
    "    for i in range (num_points):\n",
    "        aux = landa[i]*y[i]*A[i,:]\n",
    "        w += aux\n",
    "\n",
    "    w = np.matrix(w)\n",
    "    w = w.reshape(w.size, 1)\n",
    "\n",
    "    return w"
   ]
  },
  {
   "cell_type": "code",
   "execution_count": 223,
   "metadata": {},
   "outputs": [],
   "source": [
    "## Training pel dual\n",
    "def dual_tr(model,data):\n",
    "    ampl.reset()\n",
    "    ampl.read(model)\n",
    "    ampl.readData(data)\n",
    "    ampl.setOption('solver','minos')\n",
    "    ampl.solve()\n",
    "\n",
    "   # Parametres\n",
    "    nu = ampl.getParameter('nu').getValues().toList()[0]\n",
    "    n = int(ampl.getParameter('n').getValues().toList()[0])\n",
    "    m = int(ampl.getParameter('m').getValues().toList()[0])\n",
    "    K = np.matrix(ampl.getParameter('K').getValues().toPandas()).reshape(m,m)\n",
    "    y = np.matrix(ampl.getParameter('y').getValues().toPandas()).reshape(m,1)\n",
    "    A = np.matrix(ampl.getParameter('A').getValues().toPandas()).reshape(m,n)\n",
    "    # Variables\n",
    "    landa = np.matrix(ampl.getVariable('lambda').getValues().toPandas()).reshape(m,1)\n",
    "    \n",
    "    # Training accuracy dual\n",
    "    gamma = find_gamma(y,landa,K,nu,m)\n",
    "    print(gamma)\n",
    "    ok = 0\n",
    "    for j in range(m):\n",
    "        suma = 0\n",
    "        for i in range(m):\n",
    "            suma = suma + landa[i]*y[i]*K[i,j]\n",
    "        pred = suma + gamma        \n",
    "        if y[j]==1:\n",
    "            if pred>=+eps:\n",
    "                ok = ok + 1\n",
    "        else: # y = -1\n",
    "            if pred<-eps:\n",
    "                ok = ok + 1\n",
    "    \n",
    "    tr_acc = ok/m*100\n",
    "    \n",
    "    # Trobar w per despres pel test\n",
    "    w = find_w(y,landa,A,m)    \n",
    "    \n",
    "    return tr_acc,w,gamma"
   ]
  },
  {
   "cell_type": "code",
   "execution_count": 224,
   "metadata": {},
   "outputs": [],
   "source": [
    "## Test pel dual\n",
    "def dual_te(model,data,w,gamma):\n",
    "    ampl.reset()\n",
    "    ampl.read(model)\n",
    "    ampl.readData(data)\n",
    "\n",
    "    nu = ampl.getParameter('nu').getValues().toList()[0]\n",
    "    n = int(ampl.getParameter('n').getValues().toList()[0])\n",
    "    m = int(ampl.getParameter('m').getValues().toList()[0])\n",
    "    K = np.matrix(ampl.getParameter('K').getValues().toPandas()).reshape(m,m)\n",
    "    y = np.matrix(ampl.getParameter('y').getValues().toPandas()).reshape(m,1)\n",
    "    A = np.matrix(ampl.getParameter('A').getValues().toPandas()).reshape(m,n)\n",
    "    \n",
    "    wt = w.T\n",
    "    prediccio = wt*A.T+gamma\n",
    "    pred = prediccio.T\n",
    "    \n",
    "    ok = 0\n",
    "    for i in range(m):\n",
    "        if y[i]==1:\n",
    "            if pred[i]>+eps:\n",
    "                ok = ok + 1\n",
    "        else: # y = -1\n",
    "            if pred[i]<-eps:\n",
    "                ok = ok + 1\n",
    "            \n",
    "    tr_acc = ok/m*100\n",
    "    return tr_acc\n",
    "\n"
   ]
  },
  {
   "cell_type": "code",
   "execution_count": 225,
   "metadata": {},
   "outputs": [],
   "source": [
    "###############################################################"
   ]
  },
  {
   "cell_type": "code",
   "execution_count": 226,
   "metadata": {},
   "outputs": [
    {
     "name": "stdout",
     "output_type": "stream",
     "text": [
      "MINOS 5.51: optimal solution found.\n",
      "91 iterations, objective 25.91837833\n",
      "Nonlin evals: obj = 102, grad = 101.\n"
     ]
    },
    {
     "data": {
      "text/plain": [
       "(91.0, -3.6579280069385725)"
      ]
     },
     "execution_count": 226,
     "metadata": {},
     "output_type": "execute_result"
    }
   ],
   "source": [
    "# Primal - training\n",
    "model = \"./Desktop/2n/OM/Practica2/svm_primal.mod\"\n",
    "data = \"./Desktop/2n/OM/Practica2/primal_train.dat\"\n",
    "tr_acc_primal,w_primal,gamma = primal_tr(model,data)\n",
    "tr_acc_primal,gamma"
   ]
  },
  {
   "cell_type": "code",
   "execution_count": 227,
   "metadata": {},
   "outputs": [
    {
     "data": {
      "text/plain": [
       "88.4"
      ]
     },
     "execution_count": 227,
     "metadata": {},
     "output_type": "execute_result"
    }
   ],
   "source": [
    "# Primal -  test\n",
    "model = \"./Desktop/2n/OM/Practica2/svm_primal.mod\"\n",
    "data = \"./Desktop/2n/OM/Practica2/primal_test.dat\"\n",
    "te_acc_primal = primal_te(model,data,w_primal,gamma)\n",
    "te_acc_primal"
   ]
  },
  {
   "cell_type": "code",
   "execution_count": 125,
   "metadata": {},
   "outputs": [
    {
     "name": "stdout",
     "output_type": "stream",
     "text": [
      "MINOS 5.51: optimal solution found.\n",
      "71 iterations, objective 25.91837833\n",
      "Nonlin evals: obj = 81, grad = 80.\n",
      "[[-3.65792769]]\n"
     ]
    },
    {
     "data": {
      "text/plain": [
       "91.0"
      ]
     },
     "execution_count": 125,
     "metadata": {},
     "output_type": "execute_result"
    }
   ],
   "source": [
    "# Dual - training\n",
    "model = \"./Desktop/2n/OM/Practica2/svm_dual.mod\"\n",
    "data = \"./Desktop/2n/OM/Practica2/dual_train.dat\"\n",
    "tr_acc_dual,w_dual,gamma = dual_tr(model,data)\n",
    "tr_acc_dual"
   ]
  },
  {
   "cell_type": "code",
   "execution_count": 126,
   "metadata": {},
   "outputs": [
    {
     "data": {
      "text/plain": [
       "88.4"
      ]
     },
     "execution_count": 126,
     "metadata": {},
     "output_type": "execute_result"
    }
   ],
   "source": [
    "# Dual - test\n",
    "data = \"./Desktop/2n/OM/Practica2/dual_test.dat\"\n",
    "te_acc_dual = dual_te(model,data,w_dual,gamma)\n",
    "te_acc_dual"
   ]
  },
  {
   "cell_type": "code",
   "execution_count": 127,
   "metadata": {},
   "outputs": [
    {
     "name": "stdout",
     "output_type": "stream",
     "text": [
      "[[1.73188892]\n",
      " [1.82189662]\n",
      " [1.82182107]\n",
      " [1.655764  ]] \n",
      "\n",
      " [[1.73188877]\n",
      " [1.82189716]\n",
      " [1.82182025]\n",
      " [1.65576422]]\n"
     ]
    }
   ],
   "source": [
    "# Comparació hyperplans primal vs dual:\n",
    "print(w_primal,\"\\n\\n\",w_dual)"
   ]
  },
  {
   "cell_type": "code",
   "execution_count": 128,
   "metadata": {},
   "outputs": [],
   "source": [
    "## Dataset d'un altre repositori ##\n",
    "# Classificació d'un tipus d'iris en funció de 4 característiques\n",
    "# \"sepal length\" \"sepal width\" \"petal length\" \"petal width\" \"y\""
   ]
  },
  {
   "cell_type": "code",
   "execution_count": 129,
   "metadata": {},
   "outputs": [
    {
     "name": "stdout",
     "output_type": "stream",
     "text": [
      "MINOS 5.51: optimal solution found.\n",
      "166 iterations, objective 0.6960803358\n",
      "Nonlin evals: obj = 176, grad = 175.\n"
     ]
    },
    {
     "data": {
      "text/plain": [
       "(100.0, 1.380028786875222)"
      ]
     },
     "execution_count": 129,
     "metadata": {},
     "output_type": "execute_result"
    }
   ],
   "source": [
    "# Primal - training iris1\n",
    "model = \"./Desktop/2n/OM/Practica2/svm_primal.mod\"\n",
    "data = \"./Desktop/2n/OM/Practica2/iris1_primal.dat\"\n",
    "tr_acc_primal,w_iris1_primal,gamma1 = primal_tr(model,data)\n",
    "tr_acc_primal,gamma1"
   ]
  },
  {
   "cell_type": "code",
   "execution_count": 130,
   "metadata": {},
   "outputs": [
    {
     "name": "stdout",
     "output_type": "stream",
     "text": [
      "MINOS 5.51: optimal solution found.\n",
      "118 iterations, objective 45.9851966\n",
      "Nonlin evals: obj = 122, grad = 121.\n"
     ]
    },
    {
     "data": {
      "text/plain": [
       "(74.0, 4.398232853094191)"
      ]
     },
     "execution_count": 130,
     "metadata": {},
     "output_type": "execute_result"
    }
   ],
   "source": [
    "# Primal - training iris2\n",
    "model = \"./Desktop/2n/OM/Practica2/svm_primal.mod\"\n",
    "data = \"./Desktop/2n/OM/Practica2/iris2_primal.dat\"\n",
    "tr_acc_primal,w_iris2_primal,gamma2 = primal_tr(model,data)\n",
    "tr_acc_primal,gamma2"
   ]
  },
  {
   "cell_type": "code",
   "execution_count": 131,
   "metadata": {},
   "outputs": [
    {
     "name": "stdout",
     "output_type": "stream",
     "text": [
      "MINOS 5.51: optimal solution found.\n",
      "197 iterations, objective 9.903586036\n",
      "Nonlin evals: obj = 201, grad = 200.\n"
     ]
    },
    {
     "data": {
      "text/plain": [
       "(98.66666666666667, -7.564276080920203)"
      ]
     },
     "execution_count": 131,
     "metadata": {},
     "output_type": "execute_result"
    }
   ],
   "source": [
    "# Primal - training iris3\n",
    "model = \"./Desktop/2n/OM/Practica2/svm_primal.mod\"\n",
    "data = \"./Desktop/2n/OM/Practica2/iris3_primal.dat\"\n",
    "tr_acc_primal,w_iris3_primal,gamma3 = primal_tr(model,data)\n",
    "tr_acc_primal,gamma3"
   ]
  },
  {
   "cell_type": "code",
   "execution_count": 132,
   "metadata": {},
   "outputs": [
    {
     "name": "stdout",
     "output_type": "stream",
     "text": [
      "MINOS 5.51: optimal solution found.\n",
      "17 iterations, objective 0.6960803358\n",
      "Nonlin evals: obj = 34, grad = 33.\n",
      "[[1.38002879]]\n"
     ]
    },
    {
     "data": {
      "text/plain": [
       "100.0"
      ]
     },
     "execution_count": 132,
     "metadata": {},
     "output_type": "execute_result"
    }
   ],
   "source": [
    "# Dual - training iris1\n",
    "model = \"./Desktop/2n/OM/Practica2/svm_dual.mod\"\n",
    "data = \"./Desktop/2n/OM/Practica2/iris1_dual.dat\"\n",
    "tr_acc_dual,w_iris1_dual,gamma = dual_tr(model,data)\n",
    "tr_acc_dual"
   ]
  },
  {
   "cell_type": "code",
   "execution_count": 133,
   "metadata": {},
   "outputs": [
    {
     "name": "stdout",
     "output_type": "stream",
     "text": [
      "MINOS 5.51: optimal solution found.\n",
      "215 iterations, objective 45.9851966\n",
      "Nonlin evals: obj = 361, grad = 360.\n",
      "[[4.39823285]]\n"
     ]
    },
    {
     "data": {
      "text/plain": [
       "74.0"
      ]
     },
     "execution_count": 133,
     "metadata": {},
     "output_type": "execute_result"
    }
   ],
   "source": [
    "# Dual - training iris2\n",
    "model = \"./Desktop/2n/OM/Practica2/svm_dual.mod\"\n",
    "data = \"./Desktop/2n/OM/Practica2/iris2_dual.dat\"\n",
    "tr_acc_dual,w_iris2_dual,gamma = dual_tr(model,data)\n",
    "tr_acc_dual"
   ]
  },
  {
   "cell_type": "code",
   "execution_count": 134,
   "metadata": {},
   "outputs": [
    {
     "name": "stdout",
     "output_type": "stream",
     "text": [
      "MINOS 5.51: optimal solution found.\n",
      "42 iterations, objective 9.903586036\n",
      "Nonlin evals: obj = 60, grad = 59.\n",
      "[[-7.56427462]]\n"
     ]
    },
    {
     "data": {
      "text/plain": [
       "98.66666666666667"
      ]
     },
     "execution_count": 134,
     "metadata": {},
     "output_type": "execute_result"
    }
   ],
   "source": [
    "# Dual - training iris3\n",
    "model = \"./Desktop/2n/OM/Practica2/svm_dual.mod\"\n",
    "data = \"./Desktop/2n/OM/Practica2/iris3_dual.dat\"\n",
    "tr_acc_dual,w_iris3_dual,gamma = dual_tr(model,data)\n",
    "tr_acc_dual"
   ]
  },
  {
   "cell_type": "code",
   "execution_count": 135,
   "metadata": {},
   "outputs": [
    {
     "name": "stdout",
     "output_type": "stream",
     "text": [
      "W iris1: \n",
      " [[-0.0355123 ]\n",
      " [ 0.45138075]\n",
      " [-0.87612727]\n",
      " [-0.39811229]]    \n",
      "\n",
      " [[-0.0355123 ]\n",
      " [ 0.45138075]\n",
      " [-0.87612728]\n",
      " [-0.3981123 ]] \n",
      "\n",
      "W iris2: \n",
      " [[ 0.00909582]\n",
      " [-1.79942868]\n",
      " [ 0.36151845]\n",
      " [-0.94013852]]    \n",
      "\n",
      " [[ 0.00909582]\n",
      " [-1.79942868]\n",
      " [ 0.36151845]\n",
      " [-0.94013852]] \n",
      "\n",
      "W iris3: \n",
      " [[-0.47356568]\n",
      " [-0.46601908]\n",
      " [ 1.83651599]\n",
      " [ 1.70013342]]    \n",
      "\n",
      " [[-0.47356587]\n",
      " [-0.46601907]\n",
      " [ 1.83651578]\n",
      " [ 1.70013395]] \n",
      "\n",
      "Gamma iris1: \n",
      " 1.380028786875222    \n",
      " 1.380028786875222 \n",
      "\n",
      "Gamma iris2: \n",
      " 4.398232853094191    \n",
      " 4.398232853094191 \n",
      "\n",
      "Gamma iris3: \n",
      " -7.564276080920203    \n",
      " -7.564276080920203 \n",
      "\n"
     ]
    }
   ],
   "source": [
    "# Comprovem que donen plans de separació iguals:\n",
    "print(\"W iris1: \\n\",w_iris1_primal,\"   \\n\\n\",w_iris1_dual,\"\\n\")\n",
    "print(\"W iris2: \\n\",w_iris2_primal,\"   \\n\\n\",w_iris2_dual,\"\\n\")\n",
    "print(\"W iris3: \\n\",w_iris3_primal,\"   \\n\\n\",w_iris3_dual,\"\\n\")\n",
    "print(\"Gamma iris1: \\n\", gamma1,\"   \\n\",gamma1,\"\\n\")\n",
    "print(\"Gamma iris2: \\n\",gamma2,\"   \\n\",gamma2,\"\\n\")\n",
    "print(\"Gamma iris3: \\n\",gamma3,\"   \\n\",gamma3,\"\\n\")"
   ]
  },
  {
   "cell_type": "code",
   "execution_count": 171,
   "metadata": {},
   "outputs": [],
   "source": [
    "## Training pel dual\n",
    "def dual_tr_rbf(model,data):\n",
    "    ampl.reset()\n",
    "    ampl.read(model)\n",
    "    ampl.readData(data)\n",
    "    ampl.setOption('solver','minos')\n",
    "    ampl.solve()\n",
    "\n",
    "   # Parametres\n",
    "    nu = ampl.getParameter('nu').getValues().toList()[0]\n",
    "    n = int(ampl.getParameter('n').getValues().toList()[0])\n",
    "    m = int(ampl.getParameter('m').getValues().toList()[0])\n",
    "    K = np.matrix(ampl.getParameter('K').getValues().toPandas()).reshape(m,m)\n",
    "    y = np.matrix(ampl.getParameter('y').getValues().toPandas()).reshape(m,1)\n",
    "    A = np.matrix(ampl.getParameter('A').getValues().toPandas()).reshape(m,n)\n",
    "    # Variables\n",
    "    landa = np.matrix(ampl.getVariable('lambda').getValues().toPandas()).reshape(m,1)\n",
    "    \n",
    "    # Training accuracy dual\n",
    "    gamma = find_gamma(y,landa,K,nu,m)\n",
    "    print(gamma)\n",
    "    ok = 0\n",
    "    for j in range(m):\n",
    "        suma = 0\n",
    "        for i in range(m):\n",
    "            suma = suma + landa[i]*y[i]*K[i,j]\n",
    "        pred = suma + gamma        \n",
    "        if y[j]==1:\n",
    "            if pred>=+eps:\n",
    "                ok = ok + 1\n",
    "        else: # y = -1\n",
    "            if pred<-eps:\n",
    "                ok = ok + 1\n",
    "    \n",
    "    tr_acc = ok/m*100\n",
    "    \n",
    "    return tr_acc,landa,gamma,y,A"
   ]
  },
  {
   "cell_type": "code",
   "execution_count": 172,
   "metadata": {},
   "outputs": [],
   "source": [
    "def kernel(A1, A2):\n",
    "    sig2 = (A1[:,0].var() + A1[:,1].var() + A1[:,2].var())/3\n",
    "    m = len(A1) #assumim que len(A1) = len(A2)\n",
    "    \n",
    "    K = np.zeros((m, m))\n",
    "    for i in range(m):\n",
    "        for j in range(m):\n",
    "            K[i,j] = np.exp(-np.linalg.norm(A1[i,:] - A2[j,:])**2/sig2/2)\n",
    "    K = K + np.eye(m)*eps\n",
    "    \n",
    "    return K"
   ]
  },
  {
   "cell_type": "code",
   "execution_count": 215,
   "metadata": {},
   "outputs": [],
   "source": [
    "## Test pel dual\n",
    "def dual_te_rbf(model,data,landa,gamma,y_tr,A_tr):\n",
    "    ampl.reset()\n",
    "    ampl.read(model)\n",
    "    ampl.readData(data)\n",
    "\n",
    "    nu = ampl.getParameter('nu').getValues().toList()[0]\n",
    "    n = int(ampl.getParameter('n').getValues().toList()[0])\n",
    "    m = int(ampl.getParameter('m').getValues().toList()[0])\n",
    "    y = np.matrix(ampl.getParameter('y').getValues().toPandas()).reshape(m,1)\n",
    "    A_te = np.matrix(ampl.getParameter('A').getValues().toPandas()).reshape(m,n)\n",
    "    \n",
    "    K = kernel(A_tr,A_te)\n",
    "    \n",
    "    pred = [1 for i in range(m)]\n",
    "    for i in range(m):\n",
    "        suma = 0\n",
    "        for j in range(m):\n",
    "            suma += landa[j]*y_tr[j]*K[j,i]\n",
    "        if suma + gamma < - eps: pred[i] = -1\n",
    "    \n",
    "    ok = 0\n",
    "    for i in range(m):\n",
    "        if pred[i] == y[i]:\n",
    "            ok += 1\n",
    "            \n",
    "    tr_acc = ok/m*100\n",
    "    return tr_acc"
   ]
  },
  {
   "cell_type": "code",
   "execution_count": 228,
   "metadata": {},
   "outputs": [
    {
     "ename": "OSError",
     "evalue": "Can't find  file \"Desktop/2n/OM/Practica2/svm_dual.mod\"",
     "output_type": "error",
     "traceback": [
      "\u001b[0;31m---------------------------------------------------------------------------\u001b[0m",
      "\u001b[0;31mOSError\u001b[0m                                   Traceback (most recent call last)",
      "\u001b[0;32m<ipython-input-228-93482f6dadf9>\u001b[0m in \u001b[0;36m<module>\u001b[0;34m()\u001b[0m\n\u001b[1;32m      3\u001b[0m \u001b[0mmodel\u001b[0m \u001b[0;34m=\u001b[0m \u001b[0;34m\"./Desktop/2n/OM/Practica2/svm_dual.mod\"\u001b[0m\u001b[0;34m\u001b[0m\u001b[0m\n\u001b[1;32m      4\u001b[0m \u001b[0mdata\u001b[0m \u001b[0;34m=\u001b[0m \u001b[0;34m\"./Desktop/2n/OM/Practica2/rbf_train.dat\"\u001b[0m\u001b[0;34m\u001b[0m\u001b[0m\n\u001b[0;32m----> 5\u001b[0;31m \u001b[0mtr_acc_dual\u001b[0m\u001b[0;34m,\u001b[0m\u001b[0mlanda\u001b[0m\u001b[0;34m,\u001b[0m\u001b[0mgamma\u001b[0m\u001b[0;34m,\u001b[0m\u001b[0my_tr\u001b[0m\u001b[0;34m,\u001b[0m\u001b[0mA_tr\u001b[0m \u001b[0;34m=\u001b[0m \u001b[0mdual_tr_rbf\u001b[0m\u001b[0;34m(\u001b[0m\u001b[0mmodel\u001b[0m\u001b[0;34m,\u001b[0m\u001b[0mdata\u001b[0m\u001b[0;34m)\u001b[0m\u001b[0;34m\u001b[0m\u001b[0m\n\u001b[0m\u001b[1;32m      6\u001b[0m \u001b[0mtr_acc_dual\u001b[0m\u001b[0;34m\u001b[0m\u001b[0m\n",
      "\u001b[0;32m<ipython-input-171-a01deca740b6>\u001b[0m in \u001b[0;36mdual_tr_rbf\u001b[0;34m(model, data)\u001b[0m\n\u001b[1;32m      2\u001b[0m \u001b[0;32mdef\u001b[0m \u001b[0mdual_tr_rbf\u001b[0m\u001b[0;34m(\u001b[0m\u001b[0mmodel\u001b[0m\u001b[0;34m,\u001b[0m\u001b[0mdata\u001b[0m\u001b[0;34m)\u001b[0m\u001b[0;34m:\u001b[0m\u001b[0;34m\u001b[0m\u001b[0m\n\u001b[1;32m      3\u001b[0m     \u001b[0mampl\u001b[0m\u001b[0;34m.\u001b[0m\u001b[0mreset\u001b[0m\u001b[0;34m(\u001b[0m\u001b[0;34m)\u001b[0m\u001b[0;34m\u001b[0m\u001b[0m\n\u001b[0;32m----> 4\u001b[0;31m     \u001b[0mampl\u001b[0m\u001b[0;34m.\u001b[0m\u001b[0mread\u001b[0m\u001b[0;34m(\u001b[0m\u001b[0mmodel\u001b[0m\u001b[0;34m)\u001b[0m\u001b[0;34m\u001b[0m\u001b[0m\n\u001b[0m\u001b[1;32m      5\u001b[0m     \u001b[0mampl\u001b[0m\u001b[0;34m.\u001b[0m\u001b[0mreadData\u001b[0m\u001b[0;34m(\u001b[0m\u001b[0mdata\u001b[0m\u001b[0;34m)\u001b[0m\u001b[0;34m\u001b[0m\u001b[0m\n\u001b[1;32m      6\u001b[0m     \u001b[0mampl\u001b[0m\u001b[0;34m.\u001b[0m\u001b[0msetOption\u001b[0m\u001b[0;34m(\u001b[0m\u001b[0;34m'solver'\u001b[0m\u001b[0;34m,\u001b[0m\u001b[0;34m'minos'\u001b[0m\u001b[0;34m)\u001b[0m\u001b[0;34m\u001b[0m\u001b[0m\n",
      "\u001b[0;32m/anaconda3/lib/python3.6/site-packages/amplpy/ampl.py\u001b[0m in \u001b[0;36mread\u001b[0;34m(self, fileName, **kwargs)\u001b[0m\n\u001b[1;32m    536\u001b[0m                     \u001b[0mfout\u001b[0m\u001b[0;34m.\u001b[0m\u001b[0mwrite\u001b[0m\u001b[0;34m(\u001b[0m\u001b[0mnewmodel\u001b[0m\u001b[0;34m)\u001b[0m\u001b[0;34m\u001b[0m\u001b[0m\n\u001b[1;32m    537\u001b[0m                     \u001b[0mfileName\u001b[0m \u001b[0;34m+=\u001b[0m \u001b[0;34m'.translated'\u001b[0m\u001b[0;34m\u001b[0m\u001b[0m\n\u001b[0;32m--> 538\u001b[0;31m         \u001b[0mself\u001b[0m\u001b[0;34m.\u001b[0m\u001b[0m_impl\u001b[0m\u001b[0;34m.\u001b[0m\u001b[0mread\u001b[0m\u001b[0;34m(\u001b[0m\u001b[0mfileName\u001b[0m\u001b[0;34m)\u001b[0m\u001b[0;34m\u001b[0m\u001b[0m\n\u001b[0m\u001b[1;32m    539\u001b[0m         \u001b[0mself\u001b[0m\u001b[0;34m.\u001b[0m\u001b[0m_errorhandler_wrapper\u001b[0m\u001b[0;34m.\u001b[0m\u001b[0mcheck\u001b[0m\u001b[0;34m(\u001b[0m\u001b[0;34m)\u001b[0m\u001b[0;34m\u001b[0m\u001b[0m\n\u001b[1;32m    540\u001b[0m \u001b[0;34m\u001b[0m\u001b[0m\n",
      "\u001b[0;31mOSError\u001b[0m: Can't find  file \"Desktop/2n/OM/Practica2/svm_dual.mod\""
     ]
    }
   ],
   "source": [
    "## RBF\n",
    "# Training\n",
    "model = \"./Desktop/2n/OM/Practica2/svm_dual.mod\"\n",
    "data = \"./Desktop/2n/OM/Practica2/rbf_train.dat\"\n",
    "tr_acc_dual,landa,gamma,y_tr,A_tr = dual_tr_rbf(model,data)\n",
    "tr_acc_dual"
   ]
  },
  {
   "cell_type": "code",
   "execution_count": 217,
   "metadata": {},
   "outputs": [
    {
     "data": {
      "text/plain": [
       "99.0"
      ]
     },
     "execution_count": 217,
     "metadata": {},
     "output_type": "execute_result"
    }
   ],
   "source": [
    "# Test\n",
    "data = \"./Desktop/2n/OM/Practica2/rbf_test.dat\"\n",
    "te_acc_dual = dual_te_rbf(model,data,landa,gamma,y_tr,A_tr)\n",
    "te_acc_dual"
   ]
  },
  {
   "cell_type": "code",
   "execution_count": null,
   "metadata": {},
   "outputs": [],
   "source": []
  },
  {
   "cell_type": "code",
   "execution_count": null,
   "metadata": {},
   "outputs": [],
   "source": []
  },
  {
   "cell_type": "code",
   "execution_count": null,
   "metadata": {},
   "outputs": [],
   "source": []
  }
 ],
 "metadata": {
  "kernelspec": {
   "display_name": "Python 3",
   "language": "python",
   "name": "python3"
  },
  "language_info": {
   "codemirror_mode": {
    "name": "ipython",
    "version": 3
   },
   "file_extension": ".py",
   "mimetype": "text/x-python",
   "name": "python",
   "nbconvert_exporter": "python",
   "pygments_lexer": "ipython3",
   "version": "3.6.5"
  }
 },
 "nbformat": 4,
 "nbformat_minor": 2
}
